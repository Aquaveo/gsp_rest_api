{
 "cells": [
  {
   "cell_type": "markdown",
   "metadata": {
    "colab_type": "text",
    "id": "BXAqzo5_4XNJ"
   },
   "source": [
    "# Global Streamflow Prediction API Demo\n",
    "The Global Streamflow Prediction API provides high-resolution streamflow forecasts for regions including Africa, the Americas, and South Asia. The forecasts are derived using the Global Flood Awareness System (GloFAS) runoff and RAPID.  These results can be used for generating dynamic flood maps, predicting droughts, operating dams (to calculate how much water to release), and more.  \n",
    "\n",
    "This demo will show how to get the historical simulation and forecast for the Rio Coco in Nicaragua/Honduras using the API.\n",
    "\n",
    "WARNING: currently, this demo won't work while a new forecast is being built.  This process kicks off at 1:55am UTC and lasts 3 to 4 hours.  "
   ]
  },
  {
   "cell_type": "markdown",
   "metadata": {},
   "source": [
    "### Imports and constants"
   ]
  },
  {
   "cell_type": "code",
   "execution_count": null,
   "metadata": {
    "colab": {},
    "colab_type": "code",
    "id": "4vS4svmLyKjp"
   },
   "outputs": [],
   "source": [
    "import pandas as pd\n",
    "import requests\n",
    "from io import StringIO\n",
    "import json\n",
    "from lxml import etree, html\n",
    "import matplotlib.pyplot as plt\n",
    "from datetime import datetime\n",
    "\n",
    "%autosave 0\n",
    "\n",
    "# Checkout the documentation for a list of available calls and parameters\n",
    "api_base_url = 'http://global-streamflow-prediction.eastus.azurecontainer.io'"
   ]
  },
  {
   "cell_type": "markdown",
   "metadata": {
    "colab_type": "text",
    "id": "oMtNDCE95Rx9"
   },
   "source": [
    "### Functions"
   ]
  },
  {
   "cell_type": "code",
   "execution_count": null,
   "metadata": {
    "colab": {
     "base_uri": "https://localhost:8080/",
     "height": 54
    },
    "colab_type": "code",
    "executionInfo": {
     "elapsed": 2212,
     "status": "ok",
     "timestamp": 1559842491060,
     "user": {
      "displayName": "Christopher Edwards",
      "photoUrl": "",
      "userId": "03227592826040703545"
     },
     "user_tz": 360
    },
    "id": "iS8sFTWdyoq4",
    "outputId": "03462581-5071-46a7-d30a-154cf6ba02b7"
   },
   "outputs": [],
   "source": [
    "def call_api(call, params={}):\n",
    "    api_request = requests.get(f'{api_base_url}/api/{call}/', params=params)\n",
    "    return api_request\n",
    "\n",
    "def format_csv_results(results):\n",
    "    data = StringIO(results.text)  # Create an IO object for parsing\n",
    "\n",
    "    df = pd.read_csv(data, index_col=0)  # Create DataFrame\n",
    "    df.index = pd.to_datetime(df.index)  # Parse dates to datetime type\n",
    "    data.close()\n",
    "\n",
    "    return df\n",
    "\n",
    "def plot_results(df):\n",
    "    ax = df.plot(figsize=(12, 4), legend=False)\n",
    "    ax.set_ylabel(\"Discharge (cms)\")\n",
    "    plt.show()"
   ]
  },
  {
   "cell_type": "markdown",
   "metadata": {
    "colab_type": "text",
    "id": "q3G71dzV6Mh4"
   },
   "source": [
    "### Find available regions"
   ]
  },
  {
   "cell_type": "code",
   "execution_count": null,
   "metadata": {},
   "outputs": [],
   "source": [
    "regions = call_api('AvailableRegions')\n",
    "target_region = json.loads(regions.text)['available_regions'][-1]\n",
    "json.loads(regions.text)"
   ]
  },
  {
   "cell_type": "markdown",
   "metadata": {
    "colab_type": "text",
    "id": "q3G71dzV6Mh4"
   },
   "source": [
    "### Find available dates"
   ]
  },
  {
   "cell_type": "code",
   "execution_count": null,
   "metadata": {},
   "outputs": [],
   "source": [
    "regions = call_api('AvailableDates', params={'region': target_region})\n",
    "\n",
    "target_date = json.loads(regions.text)['available_dates'][0]\n",
    "print(target_date)\n",
    "json.loads(regions.text)"
   ]
  },
  {
   "cell_type": "markdown",
   "metadata": {
    "colab_type": "text",
    "id": "q3G71dzV6Mh4"
   },
   "source": [
    "### Get forecast ensembles\n",
    "There are 51 different ensemble forecasts, plus a 52nd higher-resolution forecast, that predict the streamflow in volume (cubic meters) per second.  Each ensemble presents a possible scenario by using slightly different inputs to account for uncertainty.  \n",
    "\n",
    "The comID that is returned can be used as the reachID in subsequent calls for faster processing, as seen in the second cell below.  Each comID is associated with a specific reach and drainage area.  \n",
    "\n",
    "The two cells below show the same data, displayed first as json and then as csv.  "
   ]
  },
  {
   "cell_type": "code",
   "execution_count": null,
   "metadata": {},
   "outputs": [],
   "source": [
    "params = {\n",
    "    'region': target_region, \n",
    "    'date': target_date, # retrieves latest available date if left out, equal \"most_recent\", or \"\"\n",
    "    'ensemble': 52, # a unique ensemble number, individual ensembles separated by commas or a range separated by a \"-\". Retrieves all ensembles left out, equal \"all\", or \"\"\n",
    "    'lat': 17.14, \n",
    "    'lon': 81.67, \n",
    "    'return_format': 'json' # csv and waterml formats also available\n",
    "}\n",
    "\n",
    "ens_results = call_api('ForecastEnsembles', params)\n",
    "target_id = json.loads(ens_results.text)['comid']\n",
    "json.loads(ens_results.text)"
   ]
  },
  {
   "cell_type": "code",
   "execution_count": null,
   "metadata": {},
   "outputs": [],
   "source": [
    "params = {\n",
    "    'region': target_region, \n",
    "    'reach_id': target_id,  \n",
    "    'return_format': 'csv'\n",
    "}\n",
    "\n",
    "all_ens_results = call_api('ForecastEnsembles', params)\n",
    "all_ens_df = format_csv_results(all_ens_results)\n",
    "\n",
    "ensemble_values = all_ens_df.iloc[:, :-1].dropna() # get all ensembles except high resolution (# 52)\n",
    "ensemble_values.head()"
   ]
  },
  {
   "cell_type": "markdown",
   "metadata": {},
   "source": [
    "### Get forecast statistics\n",
    "This example calculates basic statistics from ensembles (i.e. mean, min, max, and standard deviation).  It is useful to look at the entire collection of ensembles to get the most insight into streamflow predictions, but different statistics may be useful based on the scenario.  For example, when planning for drought, you might want to look at the min flow values, but an emergency response team who has to decide whether to close a road due to flooding may want to look at the max flow values.  These statistics help you make the best decisions with the predictions.  \n",
    "\n",
    "This data is returned in [WaterML](http://www.opengeospatial.org/standards/waterml), a XML subset that is the OGC standard for sharing time-series water data.  This format is useful for many water-related tools."
   ]
  },
  {
   "cell_type": "code",
   "execution_count": null,
   "metadata": {},
   "outputs": [],
   "source": [
    "params = {\n",
    "    'region': target_region, \n",
    "    'reach_id': target_id, # responds faster if reach_id given instead of lat lon\n",
    "    'stat_type': 'mean', # min, max, and other stat types also available\n",
    "    'return_format': 'waterml'\n",
    "}\n",
    "\n",
    "mean = call_api('ForecastStats', params)\n",
    "print(mean.text)"
   ]
  },
  {
   "cell_type": "markdown",
   "metadata": {},
   "source": [
    "### Get historic data\n",
    "This \"historical simulation\" example predicts historical values for planning.  This provides a hindcast (prediction of what the past looked like).  In developing countries, there may not be historical data available on streamflow in the past, and this is useful if you want to build a bridge across a stream and ensure that it can span the varying water levels.  \n",
    "\n",
    "NOTE: if you have ground-truth streamflow data available, use that!  But this is a good alternative when you don't have historical data for a location.  "
   ]
  },
  {
   "cell_type": "code",
   "execution_count": null,
   "metadata": {},
   "outputs": [],
   "source": [
    "params = {\n",
    "    'region': target_region, \n",
    "    'reach_id': target_id, \n",
    "    'return_format': 'csv'\n",
    "}\n",
    "\n",
    "historic_sim = call_api('HistoricSimulation', params)\n",
    "\n",
    "parsed_results = format_csv_results(historic_sim)\n",
    "parsed_results.head()"
   ]
  },
  {
   "cell_type": "markdown",
   "metadata": {
    "colab_type": "text",
    "id": "27okNLTL9Gnf"
   },
   "source": [
    "### Visualize the data\n",
    "These two visualizations show the streamflow predictions from the various ensembles above and the historical simulation results, plotted by time.  "
   ]
  },
  {
   "cell_type": "code",
   "execution_count": null,
   "metadata": {},
   "outputs": [],
   "source": [
    "plot_results(ensemble_values)"
   ]
  },
  {
   "cell_type": "code",
   "execution_count": null,
   "metadata": {
    "colab": {
     "base_uri": "https://localhost:8080/",
     "height": 392
    },
    "colab_type": "code",
    "executionInfo": {
     "elapsed": 964,
     "status": "ok",
     "timestamp": 1559842496979,
     "user": {
      "displayName": "Christopher Edwards",
      "photoUrl": "",
      "userId": "03227592826040703545"
     },
     "user_tz": 360
    },
    "id": "L453g1LX9Rm4",
    "outputId": "52a73677-2d58-4b31-c792-509d91bc1588",
    "scrolled": true
   },
   "outputs": [],
   "source": [
    "plot_results(parsed_results)"
   ]
  },
  {
   "cell_type": "code",
   "execution_count": null,
   "metadata": {},
   "outputs": [],
   "source": []
  }
 ],
 "metadata": {
  "colab": {
   "name": "5b - API Central America.ipynb",
   "provenance": [],
   "version": "0.3.2"
  },
  "kernelspec": {
   "display_name": "Python 3",
   "language": "python",
   "name": "python3"
  },
  "language_info": {
   "codemirror_mode": {
    "name": "ipython",
    "version": 3
   },
   "file_extension": ".py",
   "mimetype": "text/x-python",
   "name": "python",
   "nbconvert_exporter": "python",
   "pygments_lexer": "ipython3",
   "version": "3.6.5"
  }
 },
 "nbformat": 4,
 "nbformat_minor": 1
}
